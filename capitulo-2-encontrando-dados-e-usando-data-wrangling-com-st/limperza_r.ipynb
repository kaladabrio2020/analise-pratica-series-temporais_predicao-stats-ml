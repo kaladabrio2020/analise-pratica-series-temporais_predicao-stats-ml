{
 "cells": [
  {
   "cell_type": "code",
   "execution_count": 194,
   "metadata": {
    "vscode": {
     "languageId": "r"
    }
   },
   "outputs": [],
   "source": [
    "# O zoo fornece recurso para series temporais\n",
    "library(zoo)\n",
    "\n",
    "# dataframe de alto desempenho do R\n",
    "library(data.table)\n",
    "\n",
    "# forçar o fundo branco\n",
    "library(ggplot2)"
   ]
  },
  {
   "cell_type": "markdown",
   "metadata": {},
   "source": [
    "#### Limpeza dos dados\n",
    "\n",
    "* dados ausentes\n",
    "* upsamping e dowsampling\n",
    "* suavização dos dados\n",
    "* lidar com sazonalidade dos dados\n",
    "* prevenir lookaheads não intencionais"
   ]
  },
  {
   "cell_type": "markdown",
   "metadata": {},
   "source": [
    "Dados ausente em series temporais são bem comuns pois a carga longitudinal é bastante pesada, para lidar com isso se tem alguns metodos:\n",
    "1. `Imputing`\n",
    "2. `interpolação`: usa pontos vizinhos para lidar com valores ausentes\n",
    "3. `Exclusão de dados`"
   ]
  },
  {
   "cell_type": "code",
   "execution_count": 195,
   "metadata": {
    "vscode": {
     "languageId": "r"
    }
   },
   "outputs": [],
   "source": [
    "\n",
    "path_ = \"C:\\\\Users\\\\mateu\\\\Documents\\\\MEGA\\\\Projetos-git\\\\analise-pratica-series-temporais_predicao-stats-ml\\\\capitulo-2-encontrando-dados-e-usando-data-wrangling-com-st\\\\dataset\\\\gov\\\\UNRATE.csv\"\n",
    "# Lendo arquivo \n",
    "unemp = fread(input = path_ )"
   ]
  },
  {
   "cell_type": "code",
   "execution_count": 196,
   "metadata": {
    "vscode": {
     "languageId": "r"
    }
   },
   "outputs": [
    {
     "data": {
      "text/html": [
       "<table class=\"dataframe\">\n",
       "<caption>A data.table: 5 × 2</caption>\n",
       "<thead>\n",
       "\t<tr><th scope=col>DATE</th><th scope=col>UNRATE</th></tr>\n",
       "\t<tr><th scope=col>&lt;IDate&gt;</th><th scope=col>&lt;dbl&gt;</th></tr>\n",
       "</thead>\n",
       "<tbody>\n",
       "\t<tr><td>1948-01-01</td><td>3.4</td></tr>\n",
       "\t<tr><td>1948-02-01</td><td>3.8</td></tr>\n",
       "\t<tr><td>1948-03-01</td><td>4.0</td></tr>\n",
       "\t<tr><td>1948-04-01</td><td>3.9</td></tr>\n",
       "\t<tr><td>1948-05-01</td><td>3.5</td></tr>\n",
       "</tbody>\n",
       "</table>\n"
      ],
      "text/latex": [
       "A data.table: 5 × 2\n",
       "\\begin{tabular}{ll}\n",
       " DATE & UNRATE\\\\\n",
       " <IDate> & <dbl>\\\\\n",
       "\\hline\n",
       "\t 1948-01-01 & 3.4\\\\\n",
       "\t 1948-02-01 & 3.8\\\\\n",
       "\t 1948-03-01 & 4.0\\\\\n",
       "\t 1948-04-01 & 3.9\\\\\n",
       "\t 1948-05-01 & 3.5\\\\\n",
       "\\end{tabular}\n"
      ],
      "text/markdown": [
       "\n",
       "A data.table: 5 × 2\n",
       "\n",
       "| DATE &lt;IDate&gt; | UNRATE &lt;dbl&gt; |\n",
       "|---|---|\n",
       "| 1948-01-01 | 3.4 |\n",
       "| 1948-02-01 | 3.8 |\n",
       "| 1948-03-01 | 4.0 |\n",
       "| 1948-04-01 | 3.9 |\n",
       "| 1948-05-01 | 3.5 |\n",
       "\n"
      ],
      "text/plain": [
       "  DATE       UNRATE\n",
       "1 1948-01-01 3.4   \n",
       "2 1948-02-01 3.8   \n",
       "3 1948-03-01 4.0   \n",
       "4 1948-04-01 3.9   \n",
       "5 1948-05-01 3.5   "
      ]
     },
     "metadata": {},
     "output_type": "display_data"
    }
   ],
   "source": [
    "head(unemp, n=5)"
   ]
  },
  {
   "cell_type": "code",
   "execution_count": 197,
   "metadata": {
    "vscode": {
     "languageId": "r"
    }
   },
   "outputs": [],
   "source": [
    "# convertendo para tipo data\n",
    "unemp[, DATE:=as.Date(DATE)]\n",
    "\n",
    "setkey(unemp, DATE)"
   ]
  },
  {
   "cell_type": "code",
   "execution_count": 198,
   "metadata": {
    "vscode": {
     "languageId": "r"
    }
   },
   "outputs": [
    {
     "data": {
      "text/html": [
       "<table class=\"dataframe\">\n",
       "<caption>A data.table: 5 × 2</caption>\n",
       "<thead>\n",
       "\t<tr><th scope=col>DATE</th><th scope=col>UNRATE</th></tr>\n",
       "\t<tr><th scope=col>&lt;date&gt;</th><th scope=col>&lt;dbl&gt;</th></tr>\n",
       "</thead>\n",
       "<tbody>\n",
       "\t<tr><td>1948-01-01</td><td>3.4</td></tr>\n",
       "\t<tr><td>1948-02-01</td><td>3.8</td></tr>\n",
       "\t<tr><td>1948-03-01</td><td>4.0</td></tr>\n",
       "\t<tr><td>1948-04-01</td><td>3.9</td></tr>\n",
       "\t<tr><td>1948-05-01</td><td>3.5</td></tr>\n",
       "</tbody>\n",
       "</table>\n"
      ],
      "text/latex": [
       "A data.table: 5 × 2\n",
       "\\begin{tabular}{ll}\n",
       " DATE & UNRATE\\\\\n",
       " <date> & <dbl>\\\\\n",
       "\\hline\n",
       "\t 1948-01-01 & 3.4\\\\\n",
       "\t 1948-02-01 & 3.8\\\\\n",
       "\t 1948-03-01 & 4.0\\\\\n",
       "\t 1948-04-01 & 3.9\\\\\n",
       "\t 1948-05-01 & 3.5\\\\\n",
       "\\end{tabular}\n"
      ],
      "text/markdown": [
       "\n",
       "A data.table: 5 × 2\n",
       "\n",
       "| DATE &lt;date&gt; | UNRATE &lt;dbl&gt; |\n",
       "|---|---|\n",
       "| 1948-01-01 | 3.4 |\n",
       "| 1948-02-01 | 3.8 |\n",
       "| 1948-03-01 | 4.0 |\n",
       "| 1948-04-01 | 3.9 |\n",
       "| 1948-05-01 | 3.5 |\n",
       "\n"
      ],
      "text/plain": [
       "  DATE       UNRATE\n",
       "1 1948-01-01 3.4   \n",
       "2 1948-02-01 3.8   \n",
       "3 1948-03-01 4.0   \n",
       "4 1948-04-01 3.9   \n",
       "5 1948-05-01 3.5   "
      ]
     },
     "metadata": {},
     "output_type": "display_data"
    }
   ],
   "source": [
    "head(x=unemp, n=5)"
   ]
  },
  {
   "cell_type": "code",
   "execution_count": 199,
   "metadata": {
    "vscode": {
     "languageId": "r"
    }
   },
   "outputs": [
    {
     "data": {
      "text/html": [
       "<style>\n",
       ".list-inline {list-style: none; margin:0; padding: 0}\n",
       ".list-inline>li {display: inline-block}\n",
       ".list-inline>li:not(:last-child)::after {content: \"\\00b7\"; padding: 0 .5ex}\n",
       "</style>\n",
       "<ol class=list-inline><li>174</li><li>192</li><li>257</li><li>793</li><li>795</li><li>101</li><li>784</li><li>129</li><li>641</li><li>123</li><li>827</li><li>733</li><li>7</li><li>318</li><li>298</li><li>253</li><li>497</li><li>606</li><li>498</li><li>541</li><li>677</li><li>220</li><li>375</li><li>72</li><li>282</li><li>526</li><li>89</li><li>61</li><li>758</li><li>342</li><li>97</li><li>410</li><li>557</li><li>301</li><li>437</li><li>642</li><li>29</li><li>62</li><li>39</li><li>379</li><li>745</li><li>761</li><li>288</li><li>268</li><li>530</li><li>654</li><li>616</li><li>223</li><li>224</li><li>314</li><li>740</li><li>730</li><li>102</li><li>315</li><li>676</li><li>88</li><li>652</li><li>709</li><li>348</li><li>116</li><li>586</li><li>769</li><li>352</li><li>294</li><li>366</li><li>461</li><li>796</li><li>164</li><li>473</li><li>185</li><li>293</li><li>646</li><li>415</li><li>810</li><li>841</li><li>479</li><li>172</li><li>746</li><li>65</li><li>757</li><li>595</li><li>690</li><li>58</li><li>509</li></ol>\n"
      ],
      "text/latex": [
       "\\begin{enumerate*}\n",
       "\\item 174\n",
       "\\item 192\n",
       "\\item 257\n",
       "\\item 793\n",
       "\\item 795\n",
       "\\item 101\n",
       "\\item 784\n",
       "\\item 129\n",
       "\\item 641\n",
       "\\item 123\n",
       "\\item 827\n",
       "\\item 733\n",
       "\\item 7\n",
       "\\item 318\n",
       "\\item 298\n",
       "\\item 253\n",
       "\\item 497\n",
       "\\item 606\n",
       "\\item 498\n",
       "\\item 541\n",
       "\\item 677\n",
       "\\item 220\n",
       "\\item 375\n",
       "\\item 72\n",
       "\\item 282\n",
       "\\item 526\n",
       "\\item 89\n",
       "\\item 61\n",
       "\\item 758\n",
       "\\item 342\n",
       "\\item 97\n",
       "\\item 410\n",
       "\\item 557\n",
       "\\item 301\n",
       "\\item 437\n",
       "\\item 642\n",
       "\\item 29\n",
       "\\item 62\n",
       "\\item 39\n",
       "\\item 379\n",
       "\\item 745\n",
       "\\item 761\n",
       "\\item 288\n",
       "\\item 268\n",
       "\\item 530\n",
       "\\item 654\n",
       "\\item 616\n",
       "\\item 223\n",
       "\\item 224\n",
       "\\item 314\n",
       "\\item 740\n",
       "\\item 730\n",
       "\\item 102\n",
       "\\item 315\n",
       "\\item 676\n",
       "\\item 88\n",
       "\\item 652\n",
       "\\item 709\n",
       "\\item 348\n",
       "\\item 116\n",
       "\\item 586\n",
       "\\item 769\n",
       "\\item 352\n",
       "\\item 294\n",
       "\\item 366\n",
       "\\item 461\n",
       "\\item 796\n",
       "\\item 164\n",
       "\\item 473\n",
       "\\item 185\n",
       "\\item 293\n",
       "\\item 646\n",
       "\\item 415\n",
       "\\item 810\n",
       "\\item 841\n",
       "\\item 479\n",
       "\\item 172\n",
       "\\item 746\n",
       "\\item 65\n",
       "\\item 757\n",
       "\\item 595\n",
       "\\item 690\n",
       "\\item 58\n",
       "\\item 509\n",
       "\\end{enumerate*}\n"
      ],
      "text/markdown": [
       "1. 174\n",
       "2. 192\n",
       "3. 257\n",
       "4. 793\n",
       "5. 795\n",
       "6. 101\n",
       "7. 784\n",
       "8. 129\n",
       "9. 641\n",
       "10. 123\n",
       "11. 827\n",
       "12. 733\n",
       "13. 7\n",
       "14. 318\n",
       "15. 298\n",
       "16. 253\n",
       "17. 497\n",
       "18. 606\n",
       "19. 498\n",
       "20. 541\n",
       "21. 677\n",
       "22. 220\n",
       "23. 375\n",
       "24. 72\n",
       "25. 282\n",
       "26. 526\n",
       "27. 89\n",
       "28. 61\n",
       "29. 758\n",
       "30. 342\n",
       "31. 97\n",
       "32. 410\n",
       "33. 557\n",
       "34. 301\n",
       "35. 437\n",
       "36. 642\n",
       "37. 29\n",
       "38. 62\n",
       "39. 39\n",
       "40. 379\n",
       "41. 745\n",
       "42. 761\n",
       "43. 288\n",
       "44. 268\n",
       "45. 530\n",
       "46. 654\n",
       "47. 616\n",
       "48. 223\n",
       "49. 224\n",
       "50. 314\n",
       "51. 740\n",
       "52. 730\n",
       "53. 102\n",
       "54. 315\n",
       "55. 676\n",
       "56. 88\n",
       "57. 652\n",
       "58. 709\n",
       "59. 348\n",
       "60. 116\n",
       "61. 586\n",
       "62. 769\n",
       "63. 352\n",
       "64. 294\n",
       "65. 366\n",
       "66. 461\n",
       "67. 796\n",
       "68. 164\n",
       "69. 473\n",
       "70. 185\n",
       "71. 293\n",
       "72. 646\n",
       "73. 415\n",
       "74. 810\n",
       "75. 841\n",
       "76. 479\n",
       "77. 172\n",
       "78. 746\n",
       "79. 65\n",
       "80. 757\n",
       "81. 595\n",
       "82. 690\n",
       "83. 58\n",
       "84. 509\n",
       "\n",
       "\n"
      ],
      "text/plain": [
       " [1] 174 192 257 793 795 101 784 129 641 123 827 733   7 318 298 253 497 606 498\n",
       "[20] 541 677 220 375  72 282 526  89  61 758 342  97 410 557 301 437 642  29  62\n",
       "[39]  39 379 745 761 288 268 530 654 616 223 224 314 740 730 102 315 676  88 652\n",
       "[58] 709 348 116 586 769 352 294 366 461 796 164 473 185 293 646 415 810 841 479\n",
       "[77] 172 746  65 757 595 690  58 509"
      ]
     },
     "metadata": {},
     "output_type": "display_data"
    }
   ],
   "source": [
    "## Gera um conj. de dados onde os dados estão aleatoriamente\n",
    "### ausentes\n",
    "rand.unemp.idx = sample(\n",
    "    1:nrow(unemp), .1*nrow(unemp)\n",
    ")\n",
    "rand.unemp.idx"
   ]
  },
  {
   "cell_type": "code",
   "execution_count": 200,
   "metadata": {
    "vscode": {
     "languageId": "r"
    }
   },
   "outputs": [
    {
     "data": {
      "text/html": [
       "<table class=\"dataframe\">\n",
       "<caption>A data.table: 10 × 2</caption>\n",
       "<thead>\n",
       "\t<tr><th scope=col>DATE</th><th scope=col>UNRATE</th></tr>\n",
       "\t<tr><th scope=col>&lt;date&gt;</th><th scope=col>&lt;dbl&gt;</th></tr>\n",
       "</thead>\n",
       "<tbody>\n",
       "\t<tr><td>1948-01-01</td><td>3.4</td></tr>\n",
       "\t<tr><td>1948-02-01</td><td>3.8</td></tr>\n",
       "\t<tr><td>1948-03-01</td><td>4.0</td></tr>\n",
       "\t<tr><td>1948-04-01</td><td>3.9</td></tr>\n",
       "\t<tr><td>1948-05-01</td><td>3.5</td></tr>\n",
       "\t<tr><td>1948-06-01</td><td>3.6</td></tr>\n",
       "\t<tr><td>1948-08-01</td><td>3.9</td></tr>\n",
       "\t<tr><td>1948-09-01</td><td>3.8</td></tr>\n",
       "\t<tr><td>1948-10-01</td><td>3.7</td></tr>\n",
       "\t<tr><td>1948-11-01</td><td>3.8</td></tr>\n",
       "</tbody>\n",
       "</table>\n"
      ],
      "text/latex": [
       "A data.table: 10 × 2\n",
       "\\begin{tabular}{ll}\n",
       " DATE & UNRATE\\\\\n",
       " <date> & <dbl>\\\\\n",
       "\\hline\n",
       "\t 1948-01-01 & 3.4\\\\\n",
       "\t 1948-02-01 & 3.8\\\\\n",
       "\t 1948-03-01 & 4.0\\\\\n",
       "\t 1948-04-01 & 3.9\\\\\n",
       "\t 1948-05-01 & 3.5\\\\\n",
       "\t 1948-06-01 & 3.6\\\\\n",
       "\t 1948-08-01 & 3.9\\\\\n",
       "\t 1948-09-01 & 3.8\\\\\n",
       "\t 1948-10-01 & 3.7\\\\\n",
       "\t 1948-11-01 & 3.8\\\\\n",
       "\\end{tabular}\n"
      ],
      "text/markdown": [
       "\n",
       "A data.table: 10 × 2\n",
       "\n",
       "| DATE &lt;date&gt; | UNRATE &lt;dbl&gt; |\n",
       "|---|---|\n",
       "| 1948-01-01 | 3.4 |\n",
       "| 1948-02-01 | 3.8 |\n",
       "| 1948-03-01 | 4.0 |\n",
       "| 1948-04-01 | 3.9 |\n",
       "| 1948-05-01 | 3.5 |\n",
       "| 1948-06-01 | 3.6 |\n",
       "| 1948-08-01 | 3.9 |\n",
       "| 1948-09-01 | 3.8 |\n",
       "| 1948-10-01 | 3.7 |\n",
       "| 1948-11-01 | 3.8 |\n",
       "\n"
      ],
      "text/plain": [
       "   DATE       UNRATE\n",
       "1  1948-01-01 3.4   \n",
       "2  1948-02-01 3.8   \n",
       "3  1948-03-01 4.0   \n",
       "4  1948-04-01 3.9   \n",
       "5  1948-05-01 3.5   \n",
       "6  1948-06-01 3.6   \n",
       "7  1948-08-01 3.9   \n",
       "8  1948-09-01 3.8   \n",
       "9  1948-10-01 3.7   \n",
       "10 1948-11-01 3.8   "
      ]
     },
     "metadata": {},
     "output_type": "display_data"
    }
   ],
   "source": [
    "rand.unemp = unemp[-rand.unemp.idx]\n",
    "head(rand.unemp, n=10)"
   ]
  },
  {
   "cell_type": "code",
   "execution_count": 201,
   "metadata": {
    "vscode": {
     "languageId": "r"
    }
   },
   "outputs": [],
   "source": [
    "## Gera um conj. de dados onde os dados possuem maior\n",
    "### probalidade de ausencia quando o desemprego é alto\n",
    "\n",
    "alto.unemp.idx = which(unemp$UNRATE>8)\n",
    "num.to.select  = .2*length(alto.unemp.idx)\n",
    "\n",
    "alto.unemp.idx = sample(alto.unemp.idx, )\n",
    "\n",
    "bias.unemp = unemp[-alto.unemp.idx]"
   ]
  },
  {
   "cell_type": "code",
   "execution_count": 202,
   "metadata": {
    "vscode": {
     "languageId": "r"
    }
   },
   "outputs": [
    {
     "data": {
      "text/html": [],
      "text/latex": [],
      "text/markdown": [],
      "text/plain": [
       "integer(0)"
      ]
     },
     "metadata": {},
     "output_type": "display_data"
    }
   ],
   "source": [
    "which(bias.unemp$UNRATE>8)"
   ]
  },
  {
   "cell_type": "markdown",
   "metadata": {},
   "source": [
    "Usando rolling join para ler valores ausentes"
   ]
  },
  {
   "cell_type": "code",
   "execution_count": 203,
   "metadata": {
    "vscode": {
     "languageId": "r"
    }
   },
   "outputs": [],
   "source": [
    "all.dates = seq(from = unemp$DATE[1], to = tail(unemp$DATE, 1), by='months')"
   ]
  },
  {
   "cell_type": "code",
   "execution_count": 204,
   "metadata": {
    "vscode": {
     "languageId": "r"
    }
   },
   "outputs": [],
   "source": [
    "rand.unemp = rand.unemp[J(all.dates), on='DATE', roll=0]\n",
    "bias.unemp = rand.unemp[J(all.dates), on='DATE', roll=0]"
   ]
  },
  {
   "cell_type": "code",
   "execution_count": 205,
   "metadata": {
    "vscode": {
     "languageId": "r"
    }
   },
   "outputs": [],
   "source": [
    "rand.unemp[, rpt := is.na(UNRATE)]"
   ]
  },
  {
   "cell_type": "code",
   "execution_count": 206,
   "metadata": {
    "vscode": {
     "languageId": "r"
    }
   },
   "outputs": [
    {
     "data": {
      "text/html": [
       "<table class=\"dataframe\">\n",
       "<caption>A data.table: 2 × 3</caption>\n",
       "<thead>\n",
       "\t<tr><th scope=col>DATE</th><th scope=col>UNRATE</th><th scope=col>rpt</th></tr>\n",
       "\t<tr><th scope=col>&lt;date&gt;</th><th scope=col>&lt;dbl&gt;</th><th scope=col>&lt;lgl&gt;</th></tr>\n",
       "</thead>\n",
       "<tbody>\n",
       "\t<tr><td>1948-07-01</td><td>NA</td><td>TRUE</td></tr>\n",
       "\t<tr><td>1950-05-01</td><td>NA</td><td>TRUE</td></tr>\n",
       "</tbody>\n",
       "</table>\n"
      ],
      "text/latex": [
       "A data.table: 2 × 3\n",
       "\\begin{tabular}{lll}\n",
       " DATE & UNRATE & rpt\\\\\n",
       " <date> & <dbl> & <lgl>\\\\\n",
       "\\hline\n",
       "\t 1948-07-01 & NA & TRUE\\\\\n",
       "\t 1950-05-01 & NA & TRUE\\\\\n",
       "\\end{tabular}\n"
      ],
      "text/markdown": [
       "\n",
       "A data.table: 2 × 3\n",
       "\n",
       "| DATE &lt;date&gt; | UNRATE &lt;dbl&gt; | rpt &lt;lgl&gt; |\n",
       "|---|---|---|\n",
       "| 1948-07-01 | NA | TRUE |\n",
       "| 1950-05-01 | NA | TRUE |\n",
       "\n"
      ],
      "text/plain": [
       "  DATE       UNRATE rpt \n",
       "1 1948-07-01 NA     TRUE\n",
       "2 1950-05-01 NA     TRUE"
      ]
     },
     "metadata": {},
     "output_type": "display_data"
    }
   ],
   "source": [
    "head(rand.unemp[rand.unemp$rpt==TRUE], 2)"
   ]
  },
  {
   "cell_type": "markdown",
   "metadata": {},
   "source": [
    "#### Trando dados ausentes\n",
    "**forward fill**: preenche valores ausente com base no valor anterior a ele que não é ausente"
   ]
  },
  {
   "cell_type": "code",
   "execution_count": 207,
   "metadata": {
    "vscode": {
     "languageId": "r"
    }
   },
   "outputs": [],
   "source": [
    "# Forward fill\n",
    "rand.unemp[, impute.ff := na.locf(UNRATE, na.rm = FALSE)]\n",
    "bias.unemp[, impute.ff := na.locf(UNRATE, na.rm = FALSE)]"
   ]
  },
  {
   "cell_type": "code",
   "execution_count": 208,
   "metadata": {
    "vscode": {
     "languageId": "r"
    }
   },
   "outputs": [
    {
     "data": {
      "text/plain": [
       "NULL"
      ]
     },
     "metadata": {},
     "output_type": "display_data"
    },
    {
     "data": {
      "text/plain": [
       "NULL"
      ]
     },
     "metadata": {},
     "output_type": "display_data"
    },
    {
     "data": {
      "text/plain": [
       "NULL"
      ]
     },
     "metadata": {},
     "output_type": "display_data"
    },
    {
     "data": {
      "image/png": "[encoded data removed]",
      "text/plain": [
       "plot without title"
      ]
     },
     "metadata": {
      "image/png": {
       "height": 480,
       "width": 780
      }
     },
     "output_type": "display_data"
    }
   ],
   "source": [
    "par(bg='white')\n",
    "options(repr.plot.width = 13, repr.plot.height = 8)\n",
    "unemp[350:400, plot(\n",
    "    DATE, UNRATE, col=1, lwd=2, type='b', pch=19\n",
    ")]\n",
    "rand.unemp[\n",
    "    350:400, lines(\n",
    "    DATE, impute.ff, col=1, lwd=2, lty=2\n",
    ")\n",
    "]\n",
    "rand.unemp[350:400][rpt==TRUE, \n",
    "    points(DATE, impute.ff, col=2, pch=19, cex=3)\n",
    "]"
   ]
  },
  {
   "cell_type": "code",
   "execution_count": 209,
   "metadata": {
    "vscode": {
     "languageId": "r"
    }
   },
   "outputs": [
    {
     "data": {
      "image/png": "[encoded data removed]",
      "text/plain": [
       "plot without title"
      ]
     },
     "metadata": {
      "image/png": {
       "height": 480,
       "width": 780
      }
     },
     "output_type": "display_data"
    }
   ],
   "source": [
    "par(bg = 'white')\n",
    "plot(unemp$UNRATE, rand.unemp$impute.ff, pch=19)"
   ]
  },
  {
   "cell_type": "markdown",
   "metadata": {},
   "source": [
    "**Média movel :** Semelhante ao forward fill mas usa a media e mediana para imputar valores ausentes"
   ]
  },
  {
   "cell_type": "code",
   "execution_count": 210,
   "metadata": {
    "vscode": {
     "languageId": "r"
    }
   },
   "outputs": [],
   "source": [
    "rand.unemp[,\n",
    "    impute.rm.naolookahead := rollapply(c(NA, NA, UNRATE) ,3 ,\n",
    "    function(x){\n",
    "        if(!is.na(x[3])) x[3] else mean(x, na.rm=TRUE)\n",
    "    })\n",
    "]"
   ]
  },
  {
   "cell_type": "code",
   "execution_count": 211,
   "metadata": {
    "vscode": {
     "languageId": "r"
    }
   },
   "outputs": [
    {
     "data": {
      "text/html": [
       "<table class=\"dataframe\">\n",
       "<caption>A data.table: 2 × 5</caption>\n",
       "<thead>\n",
       "\t<tr><th scope=col>DATE</th><th scope=col>UNRATE</th><th scope=col>rpt</th><th scope=col>impute.ff</th><th scope=col>impute.rm.naolookahead</th></tr>\n",
       "\t<tr><th scope=col>&lt;date&gt;</th><th scope=col>&lt;dbl&gt;</th><th scope=col>&lt;lgl&gt;</th><th scope=col>&lt;dbl&gt;</th><th scope=col>&lt;dbl&gt;</th></tr>\n",
       "</thead>\n",
       "<tbody>\n",
       "\t<tr><td>1948-01-01</td><td>3.4</td><td>FALSE</td><td>3.4</td><td>3.4</td></tr>\n",
       "\t<tr><td>1948-02-01</td><td>3.8</td><td>FALSE</td><td>3.8</td><td>3.8</td></tr>\n",
       "</tbody>\n",
       "</table>\n"
      ],
      "text/latex": [
       "A data.table: 2 × 5\n",
       "\\begin{tabular}{lllll}\n",
       " DATE & UNRATE & rpt & impute.ff & impute.rm.naolookahead\\\\\n",
       " <date> & <dbl> & <lgl> & <dbl> & <dbl>\\\\\n",
       "\\hline\n",
       "\t 1948-01-01 & 3.4 & FALSE & 3.4 & 3.4\\\\\n",
       "\t 1948-02-01 & 3.8 & FALSE & 3.8 & 3.8\\\\\n",
       "\\end{tabular}\n"
      ],
      "text/markdown": [
       "\n",
       "A data.table: 2 × 5\n",
       "\n",
       "| DATE &lt;date&gt; | UNRATE &lt;dbl&gt; | rpt &lt;lgl&gt; | impute.ff &lt;dbl&gt; | impute.rm.naolookahead &lt;dbl&gt; |\n",
       "|---|---|---|---|---|\n",
       "| 1948-01-01 | 3.4 | FALSE | 3.4 | 3.4 |\n",
       "| 1948-02-01 | 3.8 | FALSE | 3.8 | 3.8 |\n",
       "\n"
      ],
      "text/plain": [
       "  DATE       UNRATE rpt   impute.ff impute.rm.naolookahead\n",
       "1 1948-01-01 3.4    FALSE 3.4       3.4                   \n",
       "2 1948-02-01 3.8    FALSE 3.8       3.8                   "
      ]
     },
     "metadata": {},
     "output_type": "display_data"
    }
   ],
   "source": [
    "head(rand.unemp, n=2)"
   ]
  },
  {
   "cell_type": "code",
   "execution_count": 212,
   "metadata": {
    "vscode": {
     "languageId": "r"
    }
   },
   "outputs": [],
   "source": [
    "bias.unemp[,\n",
    "    impute.rm.naolookahead := rollapply(c(NA, NA, UNRATE) ,3 ,\n",
    "    function(x){\n",
    "        if(!is.na(x[3])) x[3] else mean(x, na.rm=TRUE)\n",
    "    })\n",
    "]"
   ]
  },
  {
   "cell_type": "markdown",
   "metadata": {},
   "source": [
    "fazem a imputacao com a media movel com dados antes e depois"
   ]
  },
  {
   "cell_type": "markdown",
   "metadata": {},
   "source": [
    "exemplors de rollapply"
   ]
  },
  {
   "cell_type": "code",
   "execution_count": 213,
   "metadata": {
    "vscode": {
     "languageId": "r"
    }
   },
   "outputs": [],
   "source": [
    "a = c(NA, NA, NA, 4, 4, 5, NA)"
   ]
  },
  {
   "cell_type": "code",
   "execution_count": 214,
   "metadata": {
    "vscode": {
     "languageId": "r"
    }
   },
   "outputs": [
    {
     "data": {
      "text/html": [
       "<style>\n",
       ".list-inline {list-style: none; margin:0; padding: 0}\n",
       ".list-inline>li {display: inline-block}\n",
       ".list-inline>li:not(:last-child)::after {content: \"\\00b7\"; padding: 0 .5ex}\n",
       "</style>\n",
       "<ol class=list-inline><li>4</li><li>4</li><li>4.33333333333333</li><li>4</li><li>4</li><li>5</li><li>5</li></ol>\n"
      ],
      "text/latex": [
       "\\begin{enumerate*}\n",
       "\\item 4\n",
       "\\item 4\n",
       "\\item 4.33333333333333\n",
       "\\item 4\n",
       "\\item 4\n",
       "\\item 5\n",
       "\\item 5\n",
       "\\end{enumerate*}\n"
      ],
      "text/markdown": [
       "1. 4\n",
       "2. 4\n",
       "3. 4.33333333333333\n",
       "4. 4\n",
       "5. 4\n",
       "6. 5\n",
       "7. 5\n",
       "\n",
       "\n"
      ],
      "text/plain": [
       "[1] 4.000000 4.000000 4.333333 4.000000 4.000000 5.000000 5.000000"
      ]
     },
     "metadata": {},
     "output_type": "display_data"
    }
   ],
   "source": [
    "rollapply(c(NA, a, NA , NA, NA) ,5 ,\n",
    "    function(x){\n",
    "        if(!is.na(x[2])) x[2] else mean(x, na.rm=TRUE)\n",
    "    })"
   ]
  },
  {
   "cell_type": "markdown",
   "metadata": {},
   "source": [
    "**interpolação**"
   ]
  },
  {
   "cell_type": "code",
   "execution_count": 215,
   "metadata": {
    "vscode": {
     "languageId": "r"
    }
   },
   "outputs": [],
   "source": [
    "# Iterpolaçao linear\n",
    "rand.unemp[, impute.li := na.approx(UNRATE)]\n",
    "bias.unemp[, impute.li := na.approx(UNRATE)]"
   ]
  },
  {
   "cell_type": "code",
   "execution_count": 216,
   "metadata": {
    "vscode": {
     "languageId": "r"
    }
   },
   "outputs": [],
   "source": [
    "# Polinomial\n",
    "rand.unemp[, impute.sp := na.spline(UNRATE)]\n",
    "bias.unemp[, impute.sp := na.spline(UNRATE)]"
   ]
  },
  {
   "cell_type": "code",
   "execution_count": 217,
   "metadata": {
    "vscode": {
     "languageId": "r"
    }
   },
   "outputs": [],
   "source": [
    "use.idx = 90:120"
   ]
  },
  {
   "cell_type": "code",
   "execution_count": 218,
   "metadata": {
    "vscode": {
     "languageId": "r"
    }
   },
   "outputs": [
    {
     "data": {
      "text/plain": [
       "NULL"
      ]
     },
     "metadata": {},
     "output_type": "display_data"
    },
    {
     "data": {
      "text/plain": [
       "NULL"
      ]
     },
     "metadata": {},
     "output_type": "display_data"
    },
    {
     "data": {
      "text/plain": [
       "NULL"
      ]
     },
     "metadata": {},
     "output_type": "display_data"
    },
    {
     "data": {
      "image/png": "[encoded data removed]",
      "text/plain": [
       "plot without title"
      ]
     },
     "metadata": {
      "image/png": {
       "height": 480,
       "width": 780
      }
     },
     "output_type": "display_data"
    }
   ],
   "source": [
    "par(bg='white')\n",
    "options(repr.plot.width = 13, repr.plot.height = 8)\n",
    "unemp[use.idx, plot(\n",
    "    DATE, UNRATE, col=1, type='b'\n",
    ")]\n",
    "rand.unemp[\n",
    "    use.idx, lines(\n",
    "    DATE, impute.li, col=2, lwd=2, lty=2\n",
    ")\n",
    "]\n",
    "rand.unemp[use.idx, \n",
    "    lines(DATE, impute.sp, col=3, pch=19, cex=3, lwd=2)\n",
    "]"
   ]
  },
  {
   "cell_type": "code",
   "execution_count": 228,
   "metadata": {
    "vscode": {
     "languageId": "r"
    }
   },
   "outputs": [
    {
     "name": "stdout",
     "output_type": "stream",
     "text": [
      "             impute.li              impute.sp              impute.ff \n",
      "           0.001324381            0.001932225            0.004644550 \n",
      "impute.rm.naolookahead \n",
      "           0.006676540 \n"
     ]
    }
   ],
   "source": [
    "# Calcular o erro médio quadrático para as colunas especificadas\n",
    "errors <- rand.unemp[, lapply(.SD, function(x) mean((x - unemp$UNRATE)^2, na.rm = TRUE)), .SDcols = c(\"impute.ff\", \"impute.rm.naolookahead\", \"impute.li\", \"impute.sp\")]\n",
    "\n",
    "# Transformar a lista em vetor\n",
    "errors_vector <- unlist(errors)\n",
    "\n",
    "# Ordenar os erros\n",
    "sorted_errors <- sort(errors_vector)\n",
    "print(sorted_errors)\n"
   ]
  },
  {
   "cell_type": "code",
   "execution_count": 230,
   "metadata": {
    "vscode": {
     "languageId": "r"
    }
   },
   "outputs": [
    {
     "data": {
      "text/html": [
       "<table class=\"dataframe\">\n",
       "<caption>A matrix: 1 × 4 of type lgl</caption>\n",
       "<thead>\n",
       "\t<tr><th scope=col>impute.ff</th><th scope=col>impute.rm.naolookahead</th><th scope=col>impute.li</th><th scope=col>impute.sp</th></tr>\n",
       "</thead>\n",
       "<tbody>\n",
       "\t<tr><td>FALSE</td><td>FALSE</td><td>FALSE</td><td>FALSE</td></tr>\n",
       "</tbody>\n",
       "</table>\n"
      ],
      "text/latex": [
       "A matrix: 1 × 4 of type lgl\n",
       "\\begin{tabular}{llll}\n",
       " impute.ff & impute.rm.naolookahead & impute.li & impute.sp\\\\\n",
       "\\hline\n",
       "\t FALSE & FALSE & FALSE & FALSE\\\\\n",
       "\\end{tabular}\n"
      ],
      "text/markdown": [
       "\n",
       "A matrix: 1 × 4 of type lgl\n",
       "\n",
       "| impute.ff | impute.rm.naolookahead | impute.li | impute.sp |\n",
       "|---|---|---|---|\n",
       "| FALSE | FALSE | FALSE | FALSE |\n",
       "\n"
      ],
      "text/plain": [
       "     impute.ff impute.rm.naolookahead impute.li impute.sp\n",
       "[1,] FALSE     FALSE                  FALSE     FALSE    "
      ]
     },
     "metadata": {},
     "output_type": "display_data"
    },
    {
     "name": "stdout",
     "output_type": "stream",
     "text": [
      "             impute.li              impute.sp              impute.ff \n",
      "           0.001324381            0.001932225            0.004644550 \n",
      "impute.rm.naolookahead \n",
      "           0.006676540 \n"
     ]
    }
   ],
   "source": [
    "# Calcular o erro médio quadrático para as colunas especificadas\n",
    "errors < bias.unemp[, lapply(.SD, function(x) mean((x - unemp$UNRATE)^2, na.rm = TRUE)), .SDcols = c(\"impute.ff\", \"impute.rm.naolookahead\", \"impute.li\", \"impute.sp\")]\n",
    "\n",
    "# Transformar a lista em vetor\n",
    "errors_vector <- unlist(errors)\n",
    "\n",
    "# Ordenar os erros\n",
    "sorted_errors <- sort(errors_vector)\n",
    "print(sorted_errors)\n"
   ]
  }
 ],
 "metadata": {
  "kernelspec": {
   "display_name": "R",
   "language": "R",
   "name": "ir"
  },
  "language_info": {
   "codemirror_mode": "r",
   "file_extension": ".r",
   "mimetype": "text/x-r-source",
   "name": "R",
   "pygments_lexer": "r",
   "version": "4.4.1"
  }
 },
 "nbformat": 4,
 "nbformat_minor": 2
}
