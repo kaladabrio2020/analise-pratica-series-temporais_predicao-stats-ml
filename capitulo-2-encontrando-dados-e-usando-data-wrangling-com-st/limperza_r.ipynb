{
 "cells": [
  {
   "cell_type": "code",
   "execution_count": 30,
   "metadata": {
    "vscode": {
     "languageId": "r"
    }
   },
   "outputs": [],
   "source": [
    "# O zoo fornece recurso para series temporais\n",
    "require(zoo)\n",
    "\n",
    "# dataframe de alto desempenho do R\n",
    "library(data.table)\n",
    "\n",
    "# forçar o fundo branco\n",
    "library(ggplot2)"
   ]
  },
  {
   "cell_type": "markdown",
   "metadata": {},
   "source": [
    "#### Limpeza dos dados\n",
    "\n",
    "* dados ausentes\n",
    "* upsamping e dowsampling\n",
    "* suavização dos dados\n",
    "* lidar com sazonalidade dos dados\n",
    "* prevenir lookaheads não intencionais"
   ]
  },
  {
   "cell_type": "markdown",
   "metadata": {},
   "source": [
    "Dados ausente em series temporais são bem comuns pois a carga longitudinal é bastante pesada, para lidar com isso se tem alguns metodos:\n",
    "1. `Imputing`\n",
    "2. `interpolação`: usa pontos vizinhos para lidar com valores ausentes\n",
    "3. `Exclusão de dados`"
   ]
  },
  {
   "cell_type": "code",
   "execution_count": 31,
   "metadata": {
    "vscode": {
     "languageId": "r"
    }
   },
   "outputs": [],
   "source": [
    "\n",
    "path_ = \"C:\\\\Users\\\\mateu\\\\Documents\\\\MEGA\\\\Projetos-git\\\\analise-pratica-series-temporais_predicao-stats-ml\\\\capitulo-2-encontrando-dados-e-usando-data-wrangling-com-st\\\\dataset\\\\gov\\\\UNRATE.csv\"\n",
    "# Lendo arquivo \n",
    "unemp = fread(input = path_ )"
   ]
  },
  {
   "cell_type": "code",
   "execution_count": 32,
   "metadata": {
    "vscode": {
     "languageId": "r"
    }
   },
   "outputs": [
    {
     "data": {
      "text/html": [
       "<table class=\"dataframe\">\n",
       "<caption>A data.table: 5 × 2</caption>\n",
       "<thead>\n",
       "\t<tr><th scope=col>DATE</th><th scope=col>UNRATE</th></tr>\n",
       "\t<tr><th scope=col>&lt;IDate&gt;</th><th scope=col>&lt;dbl&gt;</th></tr>\n",
       "</thead>\n",
       "<tbody>\n",
       "\t<tr><td>1948-01-01</td><td>3.4</td></tr>\n",
       "\t<tr><td>1948-02-01</td><td>3.8</td></tr>\n",
       "\t<tr><td>1948-03-01</td><td>4.0</td></tr>\n",
       "\t<tr><td>1948-04-01</td><td>3.9</td></tr>\n",
       "\t<tr><td>1948-05-01</td><td>3.5</td></tr>\n",
       "</tbody>\n",
       "</table>\n"
      ],
      "text/latex": [
       "A data.table: 5 × 2\n",
       "\\begin{tabular}{ll}\n",
       " DATE & UNRATE\\\\\n",
       " <IDate> & <dbl>\\\\\n",
       "\\hline\n",
       "\t 1948-01-01 & 3.4\\\\\n",
       "\t 1948-02-01 & 3.8\\\\\n",
       "\t 1948-03-01 & 4.0\\\\\n",
       "\t 1948-04-01 & 3.9\\\\\n",
       "\t 1948-05-01 & 3.5\\\\\n",
       "\\end{tabular}\n"
      ],
      "text/markdown": [
       "\n",
       "A data.table: 5 × 2\n",
       "\n",
       "| DATE &lt;IDate&gt; | UNRATE &lt;dbl&gt; |\n",
       "|---|---|\n",
       "| 1948-01-01 | 3.4 |\n",
       "| 1948-02-01 | 3.8 |\n",
       "| 1948-03-01 | 4.0 |\n",
       "| 1948-04-01 | 3.9 |\n",
       "| 1948-05-01 | 3.5 |\n",
       "\n"
      ],
      "text/plain": [
       "  DATE       UNRATE\n",
       "1 1948-01-01 3.4   \n",
       "2 1948-02-01 3.8   \n",
       "3 1948-03-01 4.0   \n",
       "4 1948-04-01 3.9   \n",
       "5 1948-05-01 3.5   "
      ]
     },
     "metadata": {},
     "output_type": "display_data"
    }
   ],
   "source": [
    "head(unemp, n=5)"
   ]
  },
  {
   "cell_type": "code",
   "execution_count": 33,
   "metadata": {
    "vscode": {
     "languageId": "r"
    }
   },
   "outputs": [],
   "source": [
    "# convertendo para tipo data\n",
    "unemp[, DATE:=as.Date(DATE)]\n",
    "\n",
    "setkey(unemp, DATE)"
   ]
  },
  {
   "cell_type": "code",
   "execution_count": 34,
   "metadata": {
    "vscode": {
     "languageId": "r"
    }
   },
   "outputs": [
    {
     "data": {
      "text/html": [
       "<table class=\"dataframe\">\n",
       "<caption>A data.table: 5 × 2</caption>\n",
       "<thead>\n",
       "\t<tr><th scope=col>DATE</th><th scope=col>UNRATE</th></tr>\n",
       "\t<tr><th scope=col>&lt;date&gt;</th><th scope=col>&lt;dbl&gt;</th></tr>\n",
       "</thead>\n",
       "<tbody>\n",
       "\t<tr><td>1948-01-01</td><td>3.4</td></tr>\n",
       "\t<tr><td>1948-02-01</td><td>3.8</td></tr>\n",
       "\t<tr><td>1948-03-01</td><td>4.0</td></tr>\n",
       "\t<tr><td>1948-04-01</td><td>3.9</td></tr>\n",
       "\t<tr><td>1948-05-01</td><td>3.5</td></tr>\n",
       "</tbody>\n",
       "</table>\n"
      ],
      "text/latex": [
       "A data.table: 5 × 2\n",
       "\\begin{tabular}{ll}\n",
       " DATE & UNRATE\\\\\n",
       " <date> & <dbl>\\\\\n",
       "\\hline\n",
       "\t 1948-01-01 & 3.4\\\\\n",
       "\t 1948-02-01 & 3.8\\\\\n",
       "\t 1948-03-01 & 4.0\\\\\n",
       "\t 1948-04-01 & 3.9\\\\\n",
       "\t 1948-05-01 & 3.5\\\\\n",
       "\\end{tabular}\n"
      ],
      "text/markdown": [
       "\n",
       "A data.table: 5 × 2\n",
       "\n",
       "| DATE &lt;date&gt; | UNRATE &lt;dbl&gt; |\n",
       "|---|---|\n",
       "| 1948-01-01 | 3.4 |\n",
       "| 1948-02-01 | 3.8 |\n",
       "| 1948-03-01 | 4.0 |\n",
       "| 1948-04-01 | 3.9 |\n",
       "| 1948-05-01 | 3.5 |\n",
       "\n"
      ],
      "text/plain": [
       "  DATE       UNRATE\n",
       "1 1948-01-01 3.4   \n",
       "2 1948-02-01 3.8   \n",
       "3 1948-03-01 4.0   \n",
       "4 1948-04-01 3.9   \n",
       "5 1948-05-01 3.5   "
      ]
     },
     "metadata": {},
     "output_type": "display_data"
    }
   ],
   "source": [
    "head(x=unemp, n=5)"
   ]
  },
  {
   "cell_type": "code",
   "execution_count": 35,
   "metadata": {
    "vscode": {
     "languageId": "r"
    }
   },
   "outputs": [
    {
     "data": {
      "text/html": [
       "<style>\n",
       ".list-inline {list-style: none; margin:0; padding: 0}\n",
       ".list-inline>li {display: inline-block}\n",
       ".list-inline>li:not(:last-child)::after {content: \"\\00b7\"; padding: 0 .5ex}\n",
       "</style>\n",
       "<ol class=list-inline><li>577</li><li>831</li><li>366</li><li>457</li><li>18</li><li>133</li><li>284</li><li>440</li><li>2</li><li>364</li><li>574</li><li>184</li><li>773</li><li>536</li><li>659</li><li>384</li><li>413</li><li>689</li><li>279</li><li>484</li><li>446</li><li>63</li><li>65</li><li>710</li><li>478</li><li>132</li><li>572</li><li>660</li><li>653</li><li>802</li><li>346</li><li>157</li><li>754</li><li>633</li><li>363</li><li>123</li><li>160</li><li>492</li><li>238</li><li>356</li><li>454</li><li>235</li><li>820</li><li>272</li><li>541</li><li>117</li><li>173</li><li>482</li><li>382</li><li>729</li><li>494</li><li>812</li><li>731</li><li>809</li><li>601</li><li>237</li><li>326</li><li>692</li><li>131</li><li>179</li><li>113</li><li>151</li><li>432</li><li>587</li><li>227</li><li>330</li><li>378</li><li>447</li><li>277</li><li>76</li><li>161</li><li>395</li><li>755</li><li>609</li><li>595</li><li>369</li><li>38</li><li>137</li><li>380</li><li>241</li><li>254</li><li>695</li><li>509</li><li>288</li></ol>\n"
      ],
      "text/latex": [
       "\\begin{enumerate*}\n",
       "\\item 577\n",
       "\\item 831\n",
       "\\item 366\n",
       "\\item 457\n",
       "\\item 18\n",
       "\\item 133\n",
       "\\item 284\n",
       "\\item 440\n",
       "\\item 2\n",
       "\\item 364\n",
       "\\item 574\n",
       "\\item 184\n",
       "\\item 773\n",
       "\\item 536\n",
       "\\item 659\n",
       "\\item 384\n",
       "\\item 413\n",
       "\\item 689\n",
       "\\item 279\n",
       "\\item 484\n",
       "\\item 446\n",
       "\\item 63\n",
       "\\item 65\n",
       "\\item 710\n",
       "\\item 478\n",
       "\\item 132\n",
       "\\item 572\n",
       "\\item 660\n",
       "\\item 653\n",
       "\\item 802\n",
       "\\item 346\n",
       "\\item 157\n",
       "\\item 754\n",
       "\\item 633\n",
       "\\item 363\n",
       "\\item 123\n",
       "\\item 160\n",
       "\\item 492\n",
       "\\item 238\n",
       "\\item 356\n",
       "\\item 454\n",
       "\\item 235\n",
       "\\item 820\n",
       "\\item 272\n",
       "\\item 541\n",
       "\\item 117\n",
       "\\item 173\n",
       "\\item 482\n",
       "\\item 382\n",
       "\\item 729\n",
       "\\item 494\n",
       "\\item 812\n",
       "\\item 731\n",
       "\\item 809\n",
       "\\item 601\n",
       "\\item 237\n",
       "\\item 326\n",
       "\\item 692\n",
       "\\item 131\n",
       "\\item 179\n",
       "\\item 113\n",
       "\\item 151\n",
       "\\item 432\n",
       "\\item 587\n",
       "\\item 227\n",
       "\\item 330\n",
       "\\item 378\n",
       "\\item 447\n",
       "\\item 277\n",
       "\\item 76\n",
       "\\item 161\n",
       "\\item 395\n",
       "\\item 755\n",
       "\\item 609\n",
       "\\item 595\n",
       "\\item 369\n",
       "\\item 38\n",
       "\\item 137\n",
       "\\item 380\n",
       "\\item 241\n",
       "\\item 254\n",
       "\\item 695\n",
       "\\item 509\n",
       "\\item 288\n",
       "\\end{enumerate*}\n"
      ],
      "text/markdown": [
       "1. 577\n",
       "2. 831\n",
       "3. 366\n",
       "4. 457\n",
       "5. 18\n",
       "6. 133\n",
       "7. 284\n",
       "8. 440\n",
       "9. 2\n",
       "10. 364\n",
       "11. 574\n",
       "12. 184\n",
       "13. 773\n",
       "14. 536\n",
       "15. 659\n",
       "16. 384\n",
       "17. 413\n",
       "18. 689\n",
       "19. 279\n",
       "20. 484\n",
       "21. 446\n",
       "22. 63\n",
       "23. 65\n",
       "24. 710\n",
       "25. 478\n",
       "26. 132\n",
       "27. 572\n",
       "28. 660\n",
       "29. 653\n",
       "30. 802\n",
       "31. 346\n",
       "32. 157\n",
       "33. 754\n",
       "34. 633\n",
       "35. 363\n",
       "36. 123\n",
       "37. 160\n",
       "38. 492\n",
       "39. 238\n",
       "40. 356\n",
       "41. 454\n",
       "42. 235\n",
       "43. 820\n",
       "44. 272\n",
       "45. 541\n",
       "46. 117\n",
       "47. 173\n",
       "48. 482\n",
       "49. 382\n",
       "50. 729\n",
       "51. 494\n",
       "52. 812\n",
       "53. 731\n",
       "54. 809\n",
       "55. 601\n",
       "56. 237\n",
       "57. 326\n",
       "58. 692\n",
       "59. 131\n",
       "60. 179\n",
       "61. 113\n",
       "62. 151\n",
       "63. 432\n",
       "64. 587\n",
       "65. 227\n",
       "66. 330\n",
       "67. 378\n",
       "68. 447\n",
       "69. 277\n",
       "70. 76\n",
       "71. 161\n",
       "72. 395\n",
       "73. 755\n",
       "74. 609\n",
       "75. 595\n",
       "76. 369\n",
       "77. 38\n",
       "78. 137\n",
       "79. 380\n",
       "80. 241\n",
       "81. 254\n",
       "82. 695\n",
       "83. 509\n",
       "84. 288\n",
       "\n",
       "\n"
      ],
      "text/plain": [
       " [1] 577 831 366 457  18 133 284 440   2 364 574 184 773 536 659 384 413 689 279\n",
       "[20] 484 446  63  65 710 478 132 572 660 653 802 346 157 754 633 363 123 160 492\n",
       "[39] 238 356 454 235 820 272 541 117 173 482 382 729 494 812 731 809 601 237 326\n",
       "[58] 692 131 179 113 151 432 587 227 330 378 447 277  76 161 395 755 609 595 369\n",
       "[77]  38 137 380 241 254 695 509 288"
      ]
     },
     "metadata": {},
     "output_type": "display_data"
    }
   ],
   "source": [
    "## Gera um conj. de dados onde os dados estão aleatoriamente\n",
    "### ausentes\n",
    "rand.unemp.idx = sample(\n",
    "    1:nrow(unemp), .1*nrow(unemp)\n",
    ")\n",
    "rand.unemp.idx"
   ]
  },
  {
   "cell_type": "code",
   "execution_count": 36,
   "metadata": {
    "vscode": {
     "languageId": "r"
    }
   },
   "outputs": [
    {
     "data": {
      "text/html": [
       "<table class=\"dataframe\">\n",
       "<caption>A data.table: 10 × 2</caption>\n",
       "<thead>\n",
       "\t<tr><th scope=col>DATE</th><th scope=col>UNRATE</th></tr>\n",
       "\t<tr><th scope=col>&lt;date&gt;</th><th scope=col>&lt;dbl&gt;</th></tr>\n",
       "</thead>\n",
       "<tbody>\n",
       "\t<tr><td>1948-01-01</td><td>3.4</td></tr>\n",
       "\t<tr><td>1948-03-01</td><td>4.0</td></tr>\n",
       "\t<tr><td>1948-04-01</td><td>3.9</td></tr>\n",
       "\t<tr><td>1948-05-01</td><td>3.5</td></tr>\n",
       "\t<tr><td>1948-06-01</td><td>3.6</td></tr>\n",
       "\t<tr><td>1948-07-01</td><td>3.6</td></tr>\n",
       "\t<tr><td>1948-08-01</td><td>3.9</td></tr>\n",
       "\t<tr><td>1948-09-01</td><td>3.8</td></tr>\n",
       "\t<tr><td>1948-10-01</td><td>3.7</td></tr>\n",
       "\t<tr><td>1948-11-01</td><td>3.8</td></tr>\n",
       "</tbody>\n",
       "</table>\n"
      ],
      "text/latex": [
       "A data.table: 10 × 2\n",
       "\\begin{tabular}{ll}\n",
       " DATE & UNRATE\\\\\n",
       " <date> & <dbl>\\\\\n",
       "\\hline\n",
       "\t 1948-01-01 & 3.4\\\\\n",
       "\t 1948-03-01 & 4.0\\\\\n",
       "\t 1948-04-01 & 3.9\\\\\n",
       "\t 1948-05-01 & 3.5\\\\\n",
       "\t 1948-06-01 & 3.6\\\\\n",
       "\t 1948-07-01 & 3.6\\\\\n",
       "\t 1948-08-01 & 3.9\\\\\n",
       "\t 1948-09-01 & 3.8\\\\\n",
       "\t 1948-10-01 & 3.7\\\\\n",
       "\t 1948-11-01 & 3.8\\\\\n",
       "\\end{tabular}\n"
      ],
      "text/markdown": [
       "\n",
       "A data.table: 10 × 2\n",
       "\n",
       "| DATE &lt;date&gt; | UNRATE &lt;dbl&gt; |\n",
       "|---|---|\n",
       "| 1948-01-01 | 3.4 |\n",
       "| 1948-03-01 | 4.0 |\n",
       "| 1948-04-01 | 3.9 |\n",
       "| 1948-05-01 | 3.5 |\n",
       "| 1948-06-01 | 3.6 |\n",
       "| 1948-07-01 | 3.6 |\n",
       "| 1948-08-01 | 3.9 |\n",
       "| 1948-09-01 | 3.8 |\n",
       "| 1948-10-01 | 3.7 |\n",
       "| 1948-11-01 | 3.8 |\n",
       "\n"
      ],
      "text/plain": [
       "   DATE       UNRATE\n",
       "1  1948-01-01 3.4   \n",
       "2  1948-03-01 4.0   \n",
       "3  1948-04-01 3.9   \n",
       "4  1948-05-01 3.5   \n",
       "5  1948-06-01 3.6   \n",
       "6  1948-07-01 3.6   \n",
       "7  1948-08-01 3.9   \n",
       "8  1948-09-01 3.8   \n",
       "9  1948-10-01 3.7   \n",
       "10 1948-11-01 3.8   "
      ]
     },
     "metadata": {},
     "output_type": "display_data"
    }
   ],
   "source": [
    "rand.unemp = unemp[-rand.unemp.idx]\n",
    "head(rand.unemp, n=10)"
   ]
  },
  {
   "cell_type": "code",
   "execution_count": 37,
   "metadata": {
    "vscode": {
     "languageId": "r"
    }
   },
   "outputs": [],
   "source": [
    "## Gera um conj. de dados onde os dados possuem maior\n",
    "### probalidade de ausencia quando o desemprego é alto\n",
    "\n",
    "alto.unemp.idx = which(unemp$UNRATE>8)\n",
    "num.to.select  = .2*length(alto.unemp.idx)\n",
    "\n",
    "alto.unemp.idx = sample(alto.unemp.idx, )\n",
    "\n",
    "bias.unemp = unemp[-alto.unemp.idx]"
   ]
  },
  {
   "cell_type": "code",
   "execution_count": 38,
   "metadata": {
    "vscode": {
     "languageId": "r"
    }
   },
   "outputs": [
    {
     "data": {
      "text/html": [],
      "text/latex": [],
      "text/markdown": [],
      "text/plain": [
       "integer(0)"
      ]
     },
     "metadata": {},
     "output_type": "display_data"
    }
   ],
   "source": [
    "which(bias.unemp$UNRATE>8)"
   ]
  },
  {
   "cell_type": "markdown",
   "metadata": {},
   "source": [
    "Usando rolling join para ler valores ausentes"
   ]
  },
  {
   "cell_type": "code",
   "execution_count": 39,
   "metadata": {
    "vscode": {
     "languageId": "r"
    }
   },
   "outputs": [],
   "source": [
    "all.dates = seq(from = unemp$DATE[1], to = tail(unemp$DATE, 1), by='months')"
   ]
  },
  {
   "cell_type": "code",
   "execution_count": 40,
   "metadata": {
    "vscode": {
     "languageId": "r"
    }
   },
   "outputs": [],
   "source": [
    "rand.unemp = rand.unemp[J(all.dates), on='DATE', roll=0]\n",
    "bias.unemp = rand.unemp[J(all.dates), on='DATE', roll=0]"
   ]
  },
  {
   "cell_type": "code",
   "execution_count": 41,
   "metadata": {
    "vscode": {
     "languageId": "r"
    }
   },
   "outputs": [],
   "source": [
    "rand.unemp[, rpt := is.na(UNRATE)]"
   ]
  },
  {
   "cell_type": "code",
   "execution_count": 42,
   "metadata": {
    "vscode": {
     "languageId": "r"
    }
   },
   "outputs": [
    {
     "data": {
      "text/html": [
       "<table class=\"dataframe\">\n",
       "<caption>A data.table: 2 × 3</caption>\n",
       "<thead>\n",
       "\t<tr><th scope=col>DATE</th><th scope=col>UNRATE</th><th scope=col>rpt</th></tr>\n",
       "\t<tr><th scope=col>&lt;date&gt;</th><th scope=col>&lt;dbl&gt;</th><th scope=col>&lt;lgl&gt;</th></tr>\n",
       "</thead>\n",
       "<tbody>\n",
       "\t<tr><td>1948-02-01</td><td>NA</td><td>TRUE</td></tr>\n",
       "\t<tr><td>1949-06-01</td><td>NA</td><td>TRUE</td></tr>\n",
       "</tbody>\n",
       "</table>\n"
      ],
      "text/latex": [
       "A data.table: 2 × 3\n",
       "\\begin{tabular}{lll}\n",
       " DATE & UNRATE & rpt\\\\\n",
       " <date> & <dbl> & <lgl>\\\\\n",
       "\\hline\n",
       "\t 1948-02-01 & NA & TRUE\\\\\n",
       "\t 1949-06-01 & NA & TRUE\\\\\n",
       "\\end{tabular}\n"
      ],
      "text/markdown": [
       "\n",
       "A data.table: 2 × 3\n",
       "\n",
       "| DATE &lt;date&gt; | UNRATE &lt;dbl&gt; | rpt &lt;lgl&gt; |\n",
       "|---|---|---|\n",
       "| 1948-02-01 | NA | TRUE |\n",
       "| 1949-06-01 | NA | TRUE |\n",
       "\n"
      ],
      "text/plain": [
       "  DATE       UNRATE rpt \n",
       "1 1948-02-01 NA     TRUE\n",
       "2 1949-06-01 NA     TRUE"
      ]
     },
     "metadata": {},
     "output_type": "display_data"
    }
   ],
   "source": [
    "head(rand.unemp[rand.unemp$rpt==TRUE], 2)"
   ]
  },
  {
   "cell_type": "code",
   "execution_count": 45,
   "metadata": {
    "vscode": {
     "languageId": "r"
    }
   },
   "outputs": [
    {
     "data": {
      "image/png": "[encoded data removed]",
      "text/plain": [
       "plot without title"
      ]
     },
     "metadata": {
      "image/png": {
       "height": 420,
       "width": 420
      }
     },
     "output_type": "display_data"
    }
   ],
   "source": [
    "ggplot(\n",
    "    unemp[340:400], aes(x=DATE, y=UNRATE) ) + \n",
    "    geom_line() + \n",
    "    labs(title = 'Series temporal') "
   ]
  }
 ],
 "metadata": {
  "kernelspec": {
   "display_name": "R",
   "language": "R",
   "name": "ir"
  },
  "language_info": {
   "codemirror_mode": "r",
   "file_extension": ".r",
   "mimetype": "text/x-r-source",
   "name": "R",
   "pygments_lexer": "r",
   "version": "4.4.1"
  }
 },
 "nbformat": 4,
 "nbformat_minor": 2
}
