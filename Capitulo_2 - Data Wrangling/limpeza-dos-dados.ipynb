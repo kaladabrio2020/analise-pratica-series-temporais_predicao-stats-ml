{
 "cells": [
  {
   "cell_type": "code",
   "execution_count": 35,
   "metadata": {
    "vscode": {
     "languageId": "r"
    }
   },
   "outputs": [],
   "source": [
    "library(zoo)\n",
    "library(data.table)"
   ]
  },
  {
   "cell_type": "code",
   "execution_count": null,
   "metadata": {
    "vscode": {
     "languageId": "r"
    }
   },
   "outputs": [],
   "source": []
  },
  {
   "cell_type": "markdown",
   "metadata": {},
   "source": [
    "#### Limpeza dos dados\n",
    "* dados ausentes\n",
    "* upsamping e dowsampling\n",
    "* suavização dos dados\n",
    "* lidar com sazonalidade dos dados\n",
    "* prevenir lookaheads não intencionais"
   ]
  },
  {
   "cell_type": "code",
   "execution_count": 36,
   "metadata": {
    "vscode": {
     "languageId": "r"
    }
   },
   "outputs": [],
   "source": [
    "unemp = fread('datasets/UNRATE.csv')"
   ]
  },
  {
   "cell_type": "code",
   "execution_count": 37,
   "metadata": {
    "vscode": {
     "languageId": "r"
    }
   },
   "outputs": [],
   "source": [
    "# Passando para data no R\n",
    "unemp[,DATE:=as.Date(DATE)]\n",
    "\n",
    "# definido a chave do dataframe\n",
    "setkey(x = unemp, cols = DATE)"
   ]
  },
  {
   "cell_type": "code",
   "execution_count": 38,
   "metadata": {
    "vscode": {
     "languageId": "r"
    }
   },
   "outputs": [
    {
     "data": {
      "text/html": [
       "<table class=\"dataframe\">\n",
       "<caption>A data.table: 2 × 2</caption>\n",
       "<thead>\n",
       "\t<tr><th scope=col>DATE</th><th scope=col>UNRATE</th></tr>\n",
       "\t<tr><th scope=col>&lt;date&gt;</th><th scope=col>&lt;dbl&gt;</th></tr>\n",
       "</thead>\n",
       "<tbody>\n",
       "\t<tr><td>1948-01-01</td><td>3.4</td></tr>\n",
       "\t<tr><td>1948-02-01</td><td>3.8</td></tr>\n",
       "</tbody>\n",
       "</table>\n"
      ],
      "text/latex": [
       "A data.table: 2 × 2\n",
       "\\begin{tabular}{ll}\n",
       " DATE & UNRATE\\\\\n",
       " <date> & <dbl>\\\\\n",
       "\\hline\n",
       "\t 1948-01-01 & 3.4\\\\\n",
       "\t 1948-02-01 & 3.8\\\\\n",
       "\\end{tabular}\n"
      ],
      "text/markdown": [
       "\n",
       "A data.table: 2 × 2\n",
       "\n",
       "| DATE &lt;date&gt; | UNRATE &lt;dbl&gt; |\n",
       "|---|---|\n",
       "| 1948-01-01 | 3.4 |\n",
       "| 1948-02-01 | 3.8 |\n",
       "\n"
      ],
      "text/plain": [
       "  DATE       UNRATE\n",
       "1 1948-01-01 3.4   \n",
       "2 1948-02-01 3.8   "
      ]
     },
     "metadata": {},
     "output_type": "display_data"
    }
   ],
   "source": [
    "head( unemp, n = 2)"
   ]
  },
  {
   "cell_type": "markdown",
   "metadata": {},
   "source": [
    ">Sim, é bem semelhante ao set_index do pandas em Python! Ambos são usados para definir colunas que servem como índices (ou chaves) para facilitar a ordenação e acelerar operações de busca e junções (joins).\n",
    ">\n",
    "> * No pandas: set_index é usado para definir uma ou mais colunas como índice do DataFrame.\n",
    "> * No data.table (R): setkey serve para definir uma ou mais colunas como chave de um data.table, o que automaticamente ordena a tabela com base nessas colunas."
   ]
  },
  {
   "cell_type": "code",
   "execution_count": 39,
   "metadata": {
    "vscode": {
     "languageId": "r"
    }
   },
   "outputs": [
    {
     "data": {
      "text/html": [
       "<style>\n",
       ".list-inline {list-style: none; margin:0; padding: 0}\n",
       ".list-inline>li {display: inline-block}\n",
       ".list-inline>li:not(:last-child)::after {content: \"\\00b7\"; padding: 0 .5ex}\n",
       "</style>\n",
       "<ol class=list-inline><li>5</li><li>6</li><li>4</li><li>2</li><li>1</li><li>3</li><li>8</li><li>9</li><li>6</li></ol>\n"
      ],
      "text/latex": [
       "\\begin{enumerate*}\n",
       "\\item 5\n",
       "\\item 6\n",
       "\\item 4\n",
       "\\item 2\n",
       "\\item 1\n",
       "\\item 3\n",
       "\\item 8\n",
       "\\item 9\n",
       "\\item 6\n",
       "\\end{enumerate*}\n"
      ],
      "text/markdown": [
       "1. 5\n",
       "2. 6\n",
       "3. 4\n",
       "4. 2\n",
       "5. 1\n",
       "6. 3\n",
       "7. 8\n",
       "8. 9\n",
       "9. 6\n",
       "\n",
       "\n"
      ],
      "text/plain": [
       "[1] 5 6 4 2 1 3 8 9 6"
      ]
     },
     "metadata": {},
     "output_type": "display_data"
    }
   ],
   "source": [
    "sample(1:10, 9, replace = TRUE)"
   ]
  },
  {
   "cell_type": "code",
   "execution_count": 40,
   "metadata": {
    "vscode": {
     "languageId": "r"
    }
   },
   "outputs": [],
   "source": [
    "# Gerando dados aleatoriamente ausentes\n",
    "\n",
    "set.seed(seed = 1)\n",
    "rand.unemp.idx = sample(1:nrow(unemp), .1*nrow(unemp))\n",
    "\n",
    "\n",
    "rand.nan.unemp = unemp[-rand.unemp.idx]"
   ]
  },
  {
   "cell_type": "code",
   "execution_count": 41,
   "metadata": {
    "vscode": {
     "languageId": "r"
    }
   },
   "outputs": [],
   "source": [
    "# gera um conj. dados onde os dados possuem uma maior prob de ausencia quando é alto o desemprego\n",
    "\n",
    "high.unemp.idx = which(unemp$UNRATE > 8)\n",
    "\n",
    "num.to.select = .2 * length(high.unemp.idx)\n",
    "\n",
    "high.unemp.idx = sample(high.unemp.idx, )\n",
    "\n",
    "bias.unemp = unemp[-high.unemp.idx]"
   ]
  },
  {
   "cell_type": "code",
   "execution_count": 42,
   "metadata": {
    "vscode": {
     "languageId": "r"
    }
   },
   "outputs": [],
   "source": [
    "all.dates = seq(from = unemp$DATE[1], to = tail(unemp$DATE, 1), by='months')"
   ]
  },
  {
   "cell_type": "code",
   "execution_count": 43,
   "metadata": {
    "vscode": {
     "languageId": "r"
    }
   },
   "outputs": [],
   "source": [
    "rand.unemp = rand.nan.unemp[J(all.dates), roll=0]\n",
    "bias.unemp = bias.unemp[J(all.dates), roll=0]\n",
    "\n",
    "rand.unemp[, rpt := is.na(UNRATE)]"
   ]
  },
  {
   "cell_type": "code",
   "execution_count": 49,
   "metadata": {
    "vscode": {
     "languageId": "r"
    }
   },
   "outputs": [
    {
     "data": {
      "text/html": [
       "<table class=\"dataframe\">\n",
       "<caption>A data.table: 2 × 2</caption>\n",
       "<thead>\n",
       "\t<tr><th scope=col>DATE</th><th scope=col>UNRATE</th></tr>\n",
       "\t<tr><th scope=col>&lt;date&gt;</th><th scope=col>&lt;dbl&gt;</th></tr>\n",
       "</thead>\n",
       "<tbody>\n",
       "\t<tr><td>1975-01-01</td><td>NA</td></tr>\n",
       "\t<tr><td>1975-02-01</td><td>NA</td></tr>\n",
       "</tbody>\n",
       "</table>\n"
      ],
      "text/latex": [
       "A data.table: 2 × 2\n",
       "\\begin{tabular}{ll}\n",
       " DATE & UNRATE\\\\\n",
       " <date> & <dbl>\\\\\n",
       "\\hline\n",
       "\t 1975-01-01 & NA\\\\\n",
       "\t 1975-02-01 & NA\\\\\n",
       "\\end{tabular}\n"
      ],
      "text/markdown": [
       "\n",
       "A data.table: 2 × 2\n",
       "\n",
       "| DATE &lt;date&gt; | UNRATE &lt;dbl&gt; |\n",
       "|---|---|\n",
       "| 1975-01-01 | NA |\n",
       "| 1975-02-01 | NA |\n",
       "\n"
      ],
      "text/plain": [
       "  DATE       UNRATE\n",
       "1 1975-01-01 NA    \n",
       "2 1975-02-01 NA    "
      ]
     },
     "metadata": {},
     "output_type": "display_data"
    }
   ],
   "source": [
    "head( bias.unemp[is.na(UNRATE)],n = 2)"
   ]
  },
  {
   "cell_type": "code",
   "execution_count": 50,
   "metadata": {
    "vscode": {
     "languageId": "r"
    }
   },
   "outputs": [
    {
     "data": {
      "text/html": [
       "<table class=\"dataframe\">\n",
       "<caption>A data.table: 2 × 3</caption>\n",
       "<thead>\n",
       "\t<tr><th scope=col>DATE</th><th scope=col>UNRATE</th><th scope=col>rpt</th></tr>\n",
       "\t<tr><th scope=col>&lt;date&gt;</th><th scope=col>&lt;dbl&gt;</th><th scope=col>&lt;lgl&gt;</th></tr>\n",
       "</thead>\n",
       "<tbody>\n",
       "\t<tr><td>1949-10-01</td><td>NA</td><td>TRUE</td></tr>\n",
       "\t<tr><td>1950-05-01</td><td>NA</td><td>TRUE</td></tr>\n",
       "</tbody>\n",
       "</table>\n"
      ],
      "text/latex": [
       "A data.table: 2 × 3\n",
       "\\begin{tabular}{lll}\n",
       " DATE & UNRATE & rpt\\\\\n",
       " <date> & <dbl> & <lgl>\\\\\n",
       "\\hline\n",
       "\t 1949-10-01 & NA & TRUE\\\\\n",
       "\t 1950-05-01 & NA & TRUE\\\\\n",
       "\\end{tabular}\n"
      ],
      "text/markdown": [
       "\n",
       "A data.table: 2 × 3\n",
       "\n",
       "| DATE &lt;date&gt; | UNRATE &lt;dbl&gt; | rpt &lt;lgl&gt; |\n",
       "|---|---|---|\n",
       "| 1949-10-01 | NA | TRUE |\n",
       "| 1950-05-01 | NA | TRUE |\n",
       "\n"
      ],
      "text/plain": [
       "  DATE       UNRATE rpt \n",
       "1 1949-10-01 NA     TRUE\n",
       "2 1950-05-01 NA     TRUE"
      ]
     },
     "metadata": {},
     "output_type": "display_data"
    }
   ],
   "source": [
    "head( rand.unemp[is.na(UNRATE)],n = 2)"
   ]
  },
  {
   "cell_type": "markdown",
   "metadata": {},
   "source": [
    "### Imputação"
   ]
  },
  {
   "cell_type": "markdown",
   "metadata": {},
   "source": [
    "#### Forward Fill\n",
    "* Ela transfere o útimo valor conhecido para o ausente \n",
    "    * ```r\n",
    "        na.locf(VALOR, na.rm = FALSE)\n",
    "    ```"
   ]
  },
  {
   "cell_type": "code",
   "execution_count": 62,
   "metadata": {
    "vscode": {
     "languageId": "r"
    }
   },
   "outputs": [
    {
     "data": {
      "text/html": [
       "<style>\n",
       ".list-inline {list-style: none; margin:0; padding: 0}\n",
       ".list-inline>li {display: inline-block}\n",
       ".list-inline>li:not(:last-child)::after {content: \"\\00b7\"; padding: 0 .5ex}\n",
       "</style>\n",
       "<ol class=list-inline><li>1</li><li>&lt;NA&gt;</li><li>2</li><li>3</li><li>&lt;NA&gt;</li><li>&lt;NA&gt;</li><li>5</li><li>4</li><li>2</li><li>&lt;NA&gt;</li></ol>\n"
      ],
      "text/latex": [
       "\\begin{enumerate*}\n",
       "\\item 1\n",
       "\\item <NA>\n",
       "\\item 2\n",
       "\\item 3\n",
       "\\item <NA>\n",
       "\\item <NA>\n",
       "\\item 5\n",
       "\\item 4\n",
       "\\item 2\n",
       "\\item <NA>\n",
       "\\end{enumerate*}\n"
      ],
      "text/markdown": [
       "1. 1\n",
       "2. &lt;NA&gt;\n",
       "3. 2\n",
       "4. 3\n",
       "5. &lt;NA&gt;\n",
       "6. &lt;NA&gt;\n",
       "7. 5\n",
       "8. 4\n",
       "9. 2\n",
       "10. &lt;NA&gt;\n",
       "\n",
       "\n"
      ],
      "text/plain": [
       " [1]  1 NA  2  3 NA NA  5  4  2 NA"
      ]
     },
     "metadata": {},
     "output_type": "display_data"
    }
   ],
   "source": [
    "vertor_ = c(1, NA, 2, 3, NA, NA, 5, 4, 2, NA)\n",
    "vertor_"
   ]
  },
  {
   "cell_type": "code",
   "execution_count": null,
   "metadata": {
    "vscode": {
     "languageId": "r"
    }
   },
   "outputs": [
    {
     "data": {
      "text/html": [
       "<style>\n",
       ".list-inline {list-style: none; margin:0; padding: 0}\n",
       ".list-inline>li {display: inline-block}\n",
       ".list-inline>li:not(:last-child)::after {content: \"\\00b7\"; padding: 0 .5ex}\n",
       "</style>\n",
       "<ol class=list-inline><li>1</li><li>1</li><li>2</li><li>3</li><li>3</li><li>3</li><li>5</li><li>4</li><li>2</li><li>2</li></ol>\n"
      ],
      "text/latex": [
       "\\begin{enumerate*}\n",
       "\\item 1\n",
       "\\item 1\n",
       "\\item 2\n",
       "\\item 3\n",
       "\\item 3\n",
       "\\item 3\n",
       "\\item 5\n",
       "\\item 4\n",
       "\\item 2\n",
       "\\item 2\n",
       "\\end{enumerate*}\n"
      ],
      "text/markdown": [
       "1. 1\n",
       "2. 1\n",
       "3. 2\n",
       "4. 3\n",
       "5. 3\n",
       "6. 3\n",
       "7. 5\n",
       "8. 4\n",
       "9. 2\n",
       "10. 2\n",
       "\n",
       "\n"
      ],
      "text/plain": [
       " [1] 1 1 2 3 3 3 5 4 2 2"
      ]
     },
     "metadata": {},
     "output_type": "display_data"
    }
   ],
   "source": [
    "na.locf(vertor_, na.rm = TRUE)"
   ]
  },
  {
   "cell_type": "code",
   "execution_count": 65,
   "metadata": {
    "vscode": {
     "languageId": "r"
    }
   },
   "outputs": [
    {
     "data": {
      "text/html": [
       "<style>\n",
       ".list-inline {list-style: none; margin:0; padding: 0}\n",
       ".list-inline>li {display: inline-block}\n",
       ".list-inline>li:not(:last-child)::after {content: \"\\00b7\"; padding: 0 .5ex}\n",
       "</style>\n",
       "<ol class=list-inline><li>1</li><li>1</li><li>2</li><li>3</li><li>3</li><li>3</li><li>5</li><li>4</li><li>2</li><li>2</li></ol>\n"
      ],
      "text/latex": [
       "\\begin{enumerate*}\n",
       "\\item 1\n",
       "\\item 1\n",
       "\\item 2\n",
       "\\item 3\n",
       "\\item 3\n",
       "\\item 3\n",
       "\\item 5\n",
       "\\item 4\n",
       "\\item 2\n",
       "\\item 2\n",
       "\\end{enumerate*}\n"
      ],
      "text/markdown": [
       "1. 1\n",
       "2. 1\n",
       "3. 2\n",
       "4. 3\n",
       "5. 3\n",
       "6. 3\n",
       "7. 5\n",
       "8. 4\n",
       "9. 2\n",
       "10. 2\n",
       "\n",
       "\n"
      ],
      "text/plain": [
       " [1] 1 1 2 3 3 3 5 4 2 2"
      ]
     },
     "metadata": {},
     "output_type": "display_data"
    }
   ],
   "source": [
    "na.locf(vertor_, na.rm = FALSE)"
   ]
  },
  {
   "cell_type": "code",
   "execution_count": 70,
   "metadata": {
    "vscode": {
     "languageId": "r"
    }
   },
   "outputs": [],
   "source": [
    "# Forward fill\n",
    "\n",
    "rand.unemp[, impute.ff := na.locf(UNRATE,na.rm = FALSE)]\n",
    "bias.unemp[, impute.ff := na.locf(UNRATE,na.rm = FALSE)]"
   ]
  },
  {
   "cell_type": "code",
   "execution_count": null,
   "metadata": {
    "vscode": {
     "languageId": "r"
    }
   },
   "outputs": [
    {
     "data": {
      "text/plain": [
       "NULL"
      ]
     },
     "metadata": {},
     "output_type": "display_data"
    },
    {
     "data": {
      "text/plain": [
       "NULL"
      ]
     },
     "metadata": {},
     "output_type": "display_data"
    },
    {
     "data": {
      "text/plain": [
       "NULL"
      ]
     },
     "metadata": {},
     "output_type": "display_data"
    },
    {
     "data": {
      "image/png": "[encoded data removed]",
      "text/plain": [
       "plot without title"
      ]
     },
     "metadata": {
      "image/png": {
       "height": 600,
       "width": 1200
      }
     },
     "output_type": "display_data"
    }
   ],
   "source": [
    "par(bg='white')\n",
    "options(repr.plot.width = 20, repr.plot.height = 10)\n",
    "\n",
    "\n",
    "unemp[350:400, \n",
    "        plot( DATE, UNRATE, col=1, lwd=2, type='b', pch=19 )\n",
    "    ]\n",
    "rand.unemp[\n",
    "    350:400, \n",
    "        lines( DATE, impute.ff, col=1, lwd=2, lty=2 )\n",
    "    ]\n",
    "rand.unemp[350:400][ rpt==TRUE, \n",
    "        points(DATE, impute.ff, col=2, pch=19, cex=3)\n",
    "    ]"
   ]
  },
  {
   "cell_type": "markdown",
   "metadata": {},
   "source": [
    "> As bolinhas é onde os valores foram imputados"
   ]
  },
  {
   "cell_type": "code",
   "execution_count": 84,
   "metadata": {
    "vscode": {
     "languageId": "r"
    }
   },
   "outputs": [
    {
     "data": {
      "image/png": "[encoded data removed]",
      "text/plain": [
       "plot without title"
      ]
     },
     "metadata": {
      "image/png": {
       "height": 420,
       "width": 420
      }
     },
     "output_type": "display_data"
    }
   ],
   "source": [
    "par(bg='white')\n",
    "options(repr.plot.width = NULL, repr.plot.height = NULL)\n",
    "\n",
    "\n",
    "plot(rand.unemp$impute.ff, unemp$UNRATE, pch = 19)"
   ]
  },
  {
   "cell_type": "markdown",
   "metadata": {},
   "source": [
    "> Plotamos a taxe de desemprego real x imputados. Esses gráfico mostra que ff não distorceus sistematicamente os dados\n",
    "\n",
    "> **EM ALGUNS AMBIENTES FORWARD FILL é a melhor maneria de preencher dados ausentes mesmo que métodos \"mais sofisticados\" seja possíveis.**"
   ]
  },
  {
   "cell_type": "markdown",
   "metadata": {},
   "source": [
    "&nbsp;"
   ]
  },
  {
   "cell_type": "markdown",
   "metadata": {},
   "source": [
    "#### Média movel\n",
    "* Semelhante ao forward fill mas aplicando a média móvel\n",
    "* Em diversa situações em que uma imputação de dados de média móvel melhor se adequa a tarefa em questão do que um Forward Fill:\n",
    "    * Dados forem muito ruidosos \n",
    "\n",
    "```r\n",
    "rollapply(c(NA, NA, vertor_), 3, \n",
    "    function(x){\n",
    "        if (!is.na(x[3])) x[3] else mean(x, na.rm=TRUE)\n",
    "    }\n",
    ")\n",
    "```"
   ]
  },
  {
   "cell_type": "code",
   "execution_count": 86,
   "metadata": {
    "vscode": {
     "languageId": "r"
    }
   },
   "outputs": [
    {
     "data": {
      "text/html": [
       "<style>\n",
       ".list-inline {list-style: none; margin:0; padding: 0}\n",
       ".list-inline>li {display: inline-block}\n",
       ".list-inline>li:not(:last-child)::after {content: \"\\00b7\"; padding: 0 .5ex}\n",
       "</style>\n",
       "<ol class=list-inline><li>1</li><li>&lt;NA&gt;</li><li>2</li><li>3</li><li>&lt;NA&gt;</li><li>&lt;NA&gt;</li><li>5</li><li>4</li><li>2</li><li>&lt;NA&gt;</li></ol>\n"
      ],
      "text/latex": [
       "\\begin{enumerate*}\n",
       "\\item 1\n",
       "\\item <NA>\n",
       "\\item 2\n",
       "\\item 3\n",
       "\\item <NA>\n",
       "\\item <NA>\n",
       "\\item 5\n",
       "\\item 4\n",
       "\\item 2\n",
       "\\item <NA>\n",
       "\\end{enumerate*}\n"
      ],
      "text/markdown": [
       "1. 1\n",
       "2. &lt;NA&gt;\n",
       "3. 2\n",
       "4. 3\n",
       "5. &lt;NA&gt;\n",
       "6. &lt;NA&gt;\n",
       "7. 5\n",
       "8. 4\n",
       "9. 2\n",
       "10. &lt;NA&gt;\n",
       "\n",
       "\n"
      ],
      "text/plain": [
       " [1]  1 NA  2  3 NA NA  5  4  2 NA"
      ]
     },
     "metadata": {},
     "output_type": "display_data"
    }
   ],
   "source": [
    "vertor_"
   ]
  },
  {
   "cell_type": "code",
   "execution_count": 106,
   "metadata": {
    "vscode": {
     "languageId": "r"
    }
   },
   "outputs": [
    {
     "data": {
      "text/html": [
       "<style>\n",
       ".list-inline {list-style: none; margin:0; padding: 0}\n",
       ".list-inline>li {display: inline-block}\n",
       ".list-inline>li:not(:last-child)::after {content: \"\\00b7\"; padding: 0 .5ex}\n",
       "</style>\n",
       "<ol class=list-inline><li>1</li><li>1</li><li>2</li><li>3</li><li>2.5</li><li>3</li><li>5</li><li>4</li><li>2</li><li>3</li></ol>\n"
      ],
      "text/latex": [
       "\\begin{enumerate*}\n",
       "\\item 1\n",
       "\\item 1\n",
       "\\item 2\n",
       "\\item 3\n",
       "\\item 2.5\n",
       "\\item 3\n",
       "\\item 5\n",
       "\\item 4\n",
       "\\item 2\n",
       "\\item 3\n",
       "\\end{enumerate*}\n"
      ],
      "text/markdown": [
       "1. 1\n",
       "2. 1\n",
       "3. 2\n",
       "4. 3\n",
       "5. 2.5\n",
       "6. 3\n",
       "7. 5\n",
       "8. 4\n",
       "9. 2\n",
       "10. 3\n",
       "\n",
       "\n"
      ],
      "text/plain": [
       " [1] 1.0 1.0 2.0 3.0 2.5 3.0 5.0 4.0 2.0 3.0"
      ]
     },
     "metadata": {},
     "output_type": "display_data"
    }
   ],
   "source": [
    "rollapply(c(NA, NA, vertor_), 3, \n",
    "    function(x){\n",
    "        if (!is.na(x[3])) x[3] else mean(x, na.rm=TRUE)\n",
    "    }\n",
    ")"
   ]
  },
  {
   "cell_type": "code",
   "execution_count": 110,
   "metadata": {
    "vscode": {
     "languageId": "r"
    }
   },
   "outputs": [],
   "source": [
    "# média movel sem lookhead\n",
    "rand.unemp[, imput.rm.nolookhead := rollapply(\n",
    "    c(NA, NA, UNRATE), 3, \n",
    "    function(x){\n",
    "        if (!is.na(x[3])) x[3] else mean(x, na.rm=TRUE)\n",
    "    }\n",
    ")]"
   ]
  },
  {
   "cell_type": "code",
   "execution_count": 111,
   "metadata": {
    "vscode": {
     "languageId": "r"
    }
   },
   "outputs": [],
   "source": [
    "# média movel sem lookhead\n",
    "bias.unemp[, imput.rm.nolookhead := rollapply(\n",
    "    c(NA, NA, UNRATE), 3, \n",
    "    function(x){\n",
    "        if (!is.na(x[3])) x[3] else mean(x, na.rm=TRUE)\n",
    "    }\n",
    ")]"
   ]
  },
  {
   "cell_type": "markdown",
   "metadata": {},
   "source": [
    "**Média movés**"
   ]
  }
 ],
 "metadata": {
  "kernelspec": {
   "display_name": "R",
   "language": "R",
   "name": "ir"
  },
  "language_info": {
   "codemirror_mode": "r",
   "file_extension": ".r",
   "mimetype": "text/x-r-source",
   "name": "R",
   "pygments_lexer": "r",
   "version": "4.4.1"
  }
 },
 "nbformat": 4,
 "nbformat_minor": 2
}
